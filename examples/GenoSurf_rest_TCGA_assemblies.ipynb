{
  "nbformat": 4,
  "nbformat_minor": 0,
  "metadata": {
    "colab": {
      "name": "GenoSurf_rest_TCGA_assemblies.ipynb",
      "provenance": [],
      "collapsed_sections": [],
      "toc_visible": true
    },
    "kernelspec": {
      "name": "python3",
      "display_name": "Python 3"
    }
  },
  "cells": [
    {
      "cell_type": "markdown",
      "metadata": {
        "id": "0p0zOWp5Tjms",
        "colab_type": "text"
      },
      "source": [
        "# GenoSurf API Example Use Case: \n",
        "## Extract TCGA pairs of items aligned to hg19 legacy assembly and to new GRCh38 assembly (from Genomic Data Commons portal)"
      ]
    },
    {
      "cell_type": "markdown",
      "metadata": {
        "id": "7mZs08pSV3KE",
        "colab_type": "text"
      },
      "source": [
        "###Import necessary libraries"
      ]
    },
    {
      "cell_type": "code",
      "metadata": {
        "id": "LSege2UOVVu8",
        "colab_type": "code",
        "colab": {}
      },
      "source": [
        "import requests\n",
        "from ast import literal_eval\n",
        "import pandas as pd\n",
        "from functools import reduce"
      ],
      "execution_count": 0,
      "outputs": []
    },
    {
      "cell_type": "markdown",
      "metadata": {
        "id": "BzExZ4wu-TZx",
        "colab_type": "text"
      },
      "source": [
        "###Call API with query\n",
        "\n",
        "The ```data``` variable contains the GenoSurf query in JSON format (it can be downloaded from the interface clicking on MODIFY, then 'COPY TO CLIPBOARD').\n",
        "\n",
        "The ```payload``` variable contains the JSON payload of the API POST request. For advanced use refer to the first notebook (GenoSurf_rest_ENCODE_assemblies.ipynb).\n"
      ]
    },
    {
      "cell_type": "code",
      "metadata": {
        "id": "BmMx94hAVkTr",
        "colab_type": "code",
        "colab": {}
      },
      "source": [
        "url = 'http://geco.deib.polimi.it/genosurf/api/query/table'\n",
        "\n",
        "data = '{\"gcm\":{\"project_name\":[\"tcga-chol\"]},\"type\":\"original\",\"kv\":{}}'\n",
        "\n",
        "data_dict = literal_eval(data)\n",
        "\n",
        "payload = {'agg': True}"
      ],
      "execution_count": 0,
      "outputs": []
    },
    {
      "cell_type": "markdown",
      "metadata": {
        "id": "FCi_fIl7WXTZ",
        "colab_type": "text"
      },
      "source": [
        "###Load result dataset into Pandas DataFrame\n",
        "\n",
        "Use ```len(response_json)``` to visualize the number of extracted items.\n",
        "\n",
        "Use ```df.shape[1]``` to visualize the number of columns\n",
        "\n",
        "Use ```df.columns``` for the complete list of columns"
      ]
    },
    {
      "cell_type": "code",
      "metadata": {
        "colab_type": "code",
        "id": "Biz1Orz6cDQ9",
        "colab": {}
      },
      "source": [
        "response = requests.post(url, json=data_dict, params=payload)\n",
        "response_json = response.json()\n",
        "\n",
        "df = pd.DataFrame(response_json)\n",
        "\n",
        "#restrict the dataframe to only interesting columns\n",
        "df = df[['item_source_id','alt_item_source_id','local_url','source_url', 'assembly','data_type']]"
      ],
      "execution_count": 0,
      "outputs": []
    },
    {
      "cell_type": "markdown",
      "metadata": {
        "id": "idp2tObCYR9z",
        "colab_type": "text"
      },
      "source": [
        "**Define the role of columns**\n",
        "\n",
        "*   ```class_column```: used for distinguishing data in classes\n",
        "*   ```grouped_columns```: used for grouping\n",
        "*   ```other_columns```: all columns that are not used for grouping \n",
        "\n"
      ]
    },
    {
      "cell_type": "code",
      "metadata": {
        "id": "5_VCaNzP9HQz",
        "colab_type": "code",
        "colab": {}
      },
      "source": [
        "class_column = 'assembly'\n",
        "grouped_columns = ['alt_item_source_id']\n",
        "other_columns = list(filter(lambda x: not x in grouped_columns, df.columns))"
      ],
      "execution_count": 0,
      "outputs": []
    },
    {
      "cell_type": "markdown",
      "metadata": {
        "id": "zhPG5u4raXFO",
        "colab_type": "text"
      },
      "source": [
        "**Compute desider output**\n",
        "\n",
        "Use ```full_result.head(10)``` to visualize first rows of the final dataframe.\n",
        "\n",
        "In the dataframe:\n",
        "*   First columns are from ```grouped_columns```\n",
        "*   Then we have columns used for distinguishing classes (column names are formed as ```column_name_<class_value>``` to separate classes, e.g. \n",
        "```assembly_GRCh38``` and ```assembly_hg19```)\n"
      ]
    },
    {
      "cell_type": "code",
      "metadata": {
        "id": "uIsIHHoDpc_N",
        "colab_type": "code",
        "outputId": "6f44133a-e6f9-4959-f6d4-eac9c7c0017a",
        "colab": {
          "base_uri": "https://localhost:8080/",
          "height": 666
        }
      },
      "source": [
        "df = df[grouped_columns + other_columns]\n",
        "\n",
        "#define possible values of class column\n",
        "classes = df[class_column].sort_values().unique()\n",
        "\n",
        "#perform group by on the dataframe\n",
        "grouped_df = df.groupby(grouped_columns)\n",
        "\n",
        "result = []\n",
        "\n",
        "#compute the pairs\n",
        "for group_key, group_df in grouped_df:\n",
        "\n",
        "  inner_grouped_df = group_df.groupby(class_column)\n",
        "  \n",
        "  has_all_classes = reduce((lambda x, y: x and y), map(lambda x: x in inner_grouped_df.groups.keys(), classes))\n",
        "    \n",
        "  if has_all_classes:\n",
        "    class_result = []\n",
        "    for c in classes:\n",
        "      inner_group_df = inner_grouped_df.get_group(c) \n",
        "      inner_group_df.columns = map(lambda x: x if x in grouped_columns else x + \"_\" + c.lower() ,inner_group_df.columns)\n",
        "      class_result.append(inner_group_df)\n",
        "    \n",
        "    merged = reduce(lambda left,right: pd.merge(left,right,on=grouped_columns), class_result)\n",
        "\n",
        "    result.append(merged)\n",
        "\n",
        "#builds the whole final dataframe result    \n",
        "full_result = pd.concat(result, axis=0, join='outer')\n",
        "\n",
        "print(\"Number of pairs: \",full_result.shape[0])\n",
        "\n",
        "full_result.head(10)"
      ],
      "execution_count": 5,
      "outputs": [
        {
          "output_type": "stream",
          "text": [
            "Number of pairs:  573\n"
          ],
          "name": "stdout"
        },
        {
          "output_type": "execute_result",
          "data": {
            "text/html": [
              "<div>\n",
              "<style scoped>\n",
              "    .dataframe tbody tr th:only-of-type {\n",
              "        vertical-align: middle;\n",
              "    }\n",
              "\n",
              "    .dataframe tbody tr th {\n",
              "        vertical-align: top;\n",
              "    }\n",
              "\n",
              "    .dataframe thead th {\n",
              "        text-align: right;\n",
              "    }\n",
              "</style>\n",
              "<table border=\"1\" class=\"dataframe\">\n",
              "  <thead>\n",
              "    <tr style=\"text-align: right;\">\n",
              "      <th></th>\n",
              "      <th>alt_item_source_id</th>\n",
              "      <th>item_source_id_grch38</th>\n",
              "      <th>local_url_grch38</th>\n",
              "      <th>source_url_grch38</th>\n",
              "      <th>assembly_grch38</th>\n",
              "      <th>data_type_grch38</th>\n",
              "      <th>item_source_id_hg19</th>\n",
              "      <th>local_url_hg19</th>\n",
              "      <th>source_url_hg19</th>\n",
              "      <th>assembly_hg19</th>\n",
              "      <th>data_type_hg19</th>\n",
              "    </tr>\n",
              "  </thead>\n",
              "  <tbody>\n",
              "    <tr>\n",
              "      <th>0</th>\n",
              "      <td>TCGA-3X-AAV9-01A-72D-A416-01</td>\n",
              "      <td>f81a2b3c-372a-4bd9-91d0-231fe860a9f2-cns</td>\n",
              "      <td>http://www.gmql.eu/gmql-rest/datasets/public.G...</td>\n",
              "      <td>ftp://bioinformatics.iasi.cnr.it/opengdc/bed/t...</td>\n",
              "      <td>GRCh38</td>\n",
              "      <td>Copy Number Segment</td>\n",
              "      <td>TCGA-3X-AAV9-01A-72D-A416-01__cnv</td>\n",
              "      <td>http://www.gmql.eu/gmql-rest/datasets/public.H...</td>\n",
              "      <td>ftp://bioinf.iasi.cnr.it/bed/chol/cnv/TCGA-3X-...</td>\n",
              "      <td>HG19</td>\n",
              "      <td>cnv</td>\n",
              "    </tr>\n",
              "    <tr>\n",
              "      <th>1</th>\n",
              "      <td>TCGA-3X-AAV9-01A-72D-A416-01</td>\n",
              "      <td>f81a2b3c-372a-4bd9-91d0-231fe860a9f2-mcns</td>\n",
              "      <td>http://www.gmql.eu/gmql-rest/datasets/public.G...</td>\n",
              "      <td>ftp://bioinformatics.iasi.cnr.it/opengdc/bed/t...</td>\n",
              "      <td>GRCh38</td>\n",
              "      <td>Masked Copy Number Segment</td>\n",
              "      <td>TCGA-3X-AAV9-01A-72D-A416-01__cnv</td>\n",
              "      <td>http://www.gmql.eu/gmql-rest/datasets/public.H...</td>\n",
              "      <td>ftp://bioinf.iasi.cnr.it/bed/chol/cnv/TCGA-3X-...</td>\n",
              "      <td>HG19</td>\n",
              "      <td>cnv</td>\n",
              "    </tr>\n",
              "    <tr>\n",
              "      <th>0</th>\n",
              "      <td>TCGA-3X-AAV9-01A-72D-A417-09</td>\n",
              "      <td>dd621b60-9752-48be-967c-43ee49990150-msm</td>\n",
              "      <td>http://www.gmql.eu/gmql-rest/datasets/public.G...</td>\n",
              "      <td>ftp://bioinformatics.iasi.cnr.it/opengdc/bed/t...</td>\n",
              "      <td>GRCh38</td>\n",
              "      <td>Masked Somatic Mutation</td>\n",
              "      <td>TCGA-3X-AAV9-01A-72D-A417-09__dnaseq</td>\n",
              "      <td>http://www.gmql.eu/gmql-rest/datasets/public.H...</td>\n",
              "      <td>ftp://bioinf.iasi.cnr.it/bed/chol/dnaseq/TCGA-...</td>\n",
              "      <td>HG19</td>\n",
              "      <td>dna seq</td>\n",
              "    </tr>\n",
              "    <tr>\n",
              "      <th>0</th>\n",
              "      <td>TCGA-3X-AAV9-01A-72D-A418-05</td>\n",
              "      <td>a1d1c50a-efa8-431c-8a42-088150184c74-mbv</td>\n",
              "      <td>http://www.gmql.eu/gmql-rest/datasets/public.G...</td>\n",
              "      <td>ftp://bioinformatics.iasi.cnr.it/opengdc/bed/t...</td>\n",
              "      <td>GRCh38</td>\n",
              "      <td>Methylation Beta Value</td>\n",
              "      <td>TCGA-3X-AAV9-01A-72D-A418-05__dnamethylation</td>\n",
              "      <td>http://www.gmql.eu/gmql-rest/datasets/public.H...</td>\n",
              "      <td>ftp://bioinf.iasi.cnr.it/bed/chol/dnamethylati...</td>\n",
              "      <td>HG19</td>\n",
              "      <td>dna methylation</td>\n",
              "    </tr>\n",
              "    <tr>\n",
              "      <th>0</th>\n",
              "      <td>TCGA-3X-AAV9-01A-72R-A41D-13</td>\n",
              "      <td>23f90507-8e6f-4ce6-9d7c-232ce5bee650-ieq</td>\n",
              "      <td>http://www.gmql.eu/gmql-rest/datasets/public.G...</td>\n",
              "      <td>ftp://bioinformatics.iasi.cnr.it/opengdc/bed/t...</td>\n",
              "      <td>GRCh38</td>\n",
              "      <td>Isoform Expression Quantification</td>\n",
              "      <td>TCGA-3X-AAV9-01A-72R-A41D-13__mirnaseq_isoform</td>\n",
              "      <td>http://www.gmql.eu/gmql-rest/datasets/public.H...</td>\n",
              "      <td>ftp://bioinf.iasi.cnr.it/bed/chol/mirnaseq/iso...</td>\n",
              "      <td>HG19</td>\n",
              "      <td>isoform quantification</td>\n",
              "    </tr>\n",
              "    <tr>\n",
              "      <th>1</th>\n",
              "      <td>TCGA-3X-AAV9-01A-72R-A41D-13</td>\n",
              "      <td>23f90507-8e6f-4ce6-9d7c-232ce5bee650-ieq</td>\n",
              "      <td>http://www.gmql.eu/gmql-rest/datasets/public.G...</td>\n",
              "      <td>ftp://bioinformatics.iasi.cnr.it/opengdc/bed/t...</td>\n",
              "      <td>GRCh38</td>\n",
              "      <td>Isoform Expression Quantification</td>\n",
              "      <td>TCGA-3X-AAV9-01A-72R-A41D-13__mirnaseq_mirna</td>\n",
              "      <td>http://www.gmql.eu/gmql-rest/datasets/public.H...</td>\n",
              "      <td>ftp://bioinf.iasi.cnr.it/bed/chol/mirnaseq/mir...</td>\n",
              "      <td>HG19</td>\n",
              "      <td>mirna quantification</td>\n",
              "    </tr>\n",
              "    <tr>\n",
              "      <th>2</th>\n",
              "      <td>TCGA-3X-AAV9-01A-72R-A41D-13</td>\n",
              "      <td>23f90507-8e6f-4ce6-9d7c-232ce5bee650-meq</td>\n",
              "      <td>http://www.gmql.eu/gmql-rest/datasets/public.G...</td>\n",
              "      <td>ftp://bioinformatics.iasi.cnr.it/opengdc/bed/t...</td>\n",
              "      <td>GRCh38</td>\n",
              "      <td>miRNA Expression Quantification</td>\n",
              "      <td>TCGA-3X-AAV9-01A-72R-A41D-13__mirnaseq_isoform</td>\n",
              "      <td>http://www.gmql.eu/gmql-rest/datasets/public.H...</td>\n",
              "      <td>ftp://bioinf.iasi.cnr.it/bed/chol/mirnaseq/iso...</td>\n",
              "      <td>HG19</td>\n",
              "      <td>isoform quantification</td>\n",
              "    </tr>\n",
              "    <tr>\n",
              "      <th>3</th>\n",
              "      <td>TCGA-3X-AAV9-01A-72R-A41D-13</td>\n",
              "      <td>23f90507-8e6f-4ce6-9d7c-232ce5bee650-meq</td>\n",
              "      <td>http://www.gmql.eu/gmql-rest/datasets/public.G...</td>\n",
              "      <td>ftp://bioinformatics.iasi.cnr.it/opengdc/bed/t...</td>\n",
              "      <td>GRCh38</td>\n",
              "      <td>miRNA Expression Quantification</td>\n",
              "      <td>TCGA-3X-AAV9-01A-72R-A41D-13__mirnaseq_mirna</td>\n",
              "      <td>http://www.gmql.eu/gmql-rest/datasets/public.H...</td>\n",
              "      <td>ftp://bioinf.iasi.cnr.it/bed/chol/mirnaseq/mir...</td>\n",
              "      <td>HG19</td>\n",
              "      <td>mirna quantification</td>\n",
              "    </tr>\n",
              "    <tr>\n",
              "      <th>0</th>\n",
              "      <td>TCGA-3X-AAV9-01A-72R-A41I-07</td>\n",
              "      <td>59012a78-0e8f-4b99-af97-0dbb1d3d0513-geq</td>\n",
              "      <td>http://www.gmql.eu/gmql-rest/datasets/public.G...</td>\n",
              "      <td>ftp://bioinformatics.iasi.cnr.it/opengdc/bed/t...</td>\n",
              "      <td>GRCh38</td>\n",
              "      <td>Gene Expression Quantification</td>\n",
              "      <td>TCGA-3X-AAV9-01A-72R-A41I-07__rnaseqv2_exon</td>\n",
              "      <td>http://www.gmql.eu/gmql-rest/datasets/public.H...</td>\n",
              "      <td>ftp://bioinf.iasi.cnr.it/bed/chol/rnaseqv2/exo...</td>\n",
              "      <td>HG19</td>\n",
              "      <td>exon quantification</td>\n",
              "    </tr>\n",
              "    <tr>\n",
              "      <th>1</th>\n",
              "      <td>TCGA-3X-AAV9-01A-72R-A41I-07</td>\n",
              "      <td>59012a78-0e8f-4b99-af97-0dbb1d3d0513-geq</td>\n",
              "      <td>http://www.gmql.eu/gmql-rest/datasets/public.G...</td>\n",
              "      <td>ftp://bioinformatics.iasi.cnr.it/opengdc/bed/t...</td>\n",
              "      <td>GRCh38</td>\n",
              "      <td>Gene Expression Quantification</td>\n",
              "      <td>TCGA-3X-AAV9-01A-72R-A41I-07__rnaseqv2_gene</td>\n",
              "      <td>http://www.gmql.eu/gmql-rest/datasets/public.H...</td>\n",
              "      <td>ftp://bioinf.iasi.cnr.it/bed/chol/rnaseqv2/gen...</td>\n",
              "      <td>HG19</td>\n",
              "      <td>gene quantification</td>\n",
              "    </tr>\n",
              "  </tbody>\n",
              "</table>\n",
              "</div>"
            ],
            "text/plain": [
              "             alt_item_source_id  ...          data_type_hg19\n",
              "0  TCGA-3X-AAV9-01A-72D-A416-01  ...                     cnv\n",
              "1  TCGA-3X-AAV9-01A-72D-A416-01  ...                     cnv\n",
              "0  TCGA-3X-AAV9-01A-72D-A417-09  ...                 dna seq\n",
              "0  TCGA-3X-AAV9-01A-72D-A418-05  ...         dna methylation\n",
              "0  TCGA-3X-AAV9-01A-72R-A41D-13  ...  isoform quantification\n",
              "1  TCGA-3X-AAV9-01A-72R-A41D-13  ...    mirna quantification\n",
              "2  TCGA-3X-AAV9-01A-72R-A41D-13  ...  isoform quantification\n",
              "3  TCGA-3X-AAV9-01A-72R-A41D-13  ...    mirna quantification\n",
              "0  TCGA-3X-AAV9-01A-72R-A41I-07  ...     exon quantification\n",
              "1  TCGA-3X-AAV9-01A-72R-A41I-07  ...     gene quantification\n",
              "\n",
              "[10 rows x 11 columns]"
            ]
          },
          "metadata": {
            "tags": []
          },
          "execution_count": 5
        }
      ]
    },
    {
      "cell_type": "markdown",
      "metadata": {
        "id": "atvy0GGnd5wx",
        "colab_type": "text"
      },
      "source": [
        "**Visualize and save the list of pairs**\n",
        "\n",
        "If you are interested only in some of the the pairs list, extract if from the ```full_result``` and exploit it further."
      ]
    },
    {
      "cell_type": "code",
      "metadata": {
        "id": "OGFaryuY9Bk8",
        "colab_type": "code",
        "colab": {}
      },
      "source": [
        "pairs = full_result[['alt_item_source_id','local_url_grch38','local_url_hg19']]\n",
        "\n",
        "pairs.to_csv(\"GenoSurf_rest_TCGA_assemblies.csv\")"
      ],
      "execution_count": 0,
      "outputs": []
    }
  ]
}