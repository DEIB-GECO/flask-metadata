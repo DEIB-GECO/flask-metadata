{
  "nbformat": 4,
  "nbformat_minor": 0,
  "metadata": {
    "colab": {
      "name": "GenoSurf_rest_TCGA_healthy_vs_tumor.ipynb",
      "provenance": [],
      "collapsed_sections": [],
      "toc_visible": true
    },
    "kernelspec": {
      "name": "python3",
      "display_name": "Python 3"
    }
  },
  "cells": [
    {
      "cell_type": "markdown",
      "metadata": {
        "id": "0p0zOWp5Tjms",
        "colab_type": "text"
      },
      "source": [
        "# GenoSurf API Example Use Case: \n",
        "## Extract pairs of TCGA items from same patient and corresponding to normal/tumoral tissue"
      ]
    },
    {
      "cell_type": "markdown",
      "metadata": {
        "id": "7mZs08pSV3KE",
        "colab_type": "text"
      },
      "source": [
        "###Import necessary libraries"
      ]
    },
    {
      "cell_type": "code",
      "metadata": {
        "id": "LSege2UOVVu8",
        "colab_type": "code",
        "colab": {}
      },
      "source": [
        "import requests\n",
        "from ast import literal_eval\n",
        "import pandas as pd\n",
        "from functools import reduce"
      ],
      "execution_count": 0,
      "outputs": []
    },
    {
      "cell_type": "markdown",
      "metadata": {
        "id": "BzExZ4wu-TZx",
        "colab_type": "text"
      },
      "source": [
        "###Call API with query\n",
        "\n",
        "The ```data``` variable contains the GenoSurf query in JSON format (it can be downloaded from the interface clicking on MODIFY, then 'COPY TO CLIPBOARD').\n",
        "\n",
        "The ```payload``` variable contains the JSON payload of the API POST request. For advanced use refer to the first notebook (GenoSurf_rest_ENCODE_assemblies.ipynb)\n",
        "\n",
        "\n"
      ]
    },
    {
      "cell_type": "code",
      "metadata": {
        "id": "BmMx94hAVkTr",
        "colab_type": "code",
        "colab": {}
      },
      "source": [
        "url = 'http://geco.deib.polimi.it/genosurf/api/query/table'\n",
        "\n",
        "data = '{\"gcm\":{\"source\":[\"tcga\"],\"disease\":[\"lung adenocarcinoma\"]},\"type\":\"original\",\"kv\":{}}'\n",
        "\n",
        "data_dict = literal_eval(data)\n",
        "\n",
        "payload = {'agg': True}"
      ],
      "execution_count": 0,
      "outputs": []
    },
    {
      "cell_type": "markdown",
      "metadata": {
        "id": "FCi_fIl7WXTZ",
        "colab_type": "text"
      },
      "source": [
        "###Load result dataset into Pandas DataFrame\n",
        "\n",
        "Use ```len(response_json)``` to visualize the number of extracted items.\n",
        "\n",
        "Use ```df.shape[1]``` to visualize the number of columns\n",
        "\n",
        "Use ```df.columns``` for the complete list of columns\n",
        "\n",
        "In this example we are interested in:\n",
        "* ```item_source_id``` and ```local_url``` to completely identify the item\n",
        "* ```assembly```, ```donor_source_id```, ```data_type```, ```pipeline```, ```platform``` to group items\n",
        "* ```is_healthy``` to distinguish items"
      ]
    },
    {
      "cell_type": "code",
      "metadata": {
        "colab_type": "code",
        "id": "Biz1Orz6cDQ9",
        "colab": {}
      },
      "source": [
        "response = requests.post(url, json=data_dict, params=payload)\n",
        "response_json = response.json()\n",
        "\n",
        "df = pd.DataFrame(response_json)\n",
        "\n",
        "#restrict the dataframe to only interesting columns\n",
        "df = df[['item_source_id','local_url','donor_source_id','is_healthy', 'assembly','data_type','pipeline','platform']]"
      ],
      "execution_count": 0,
      "outputs": []
    },
    {
      "cell_type": "markdown",
      "metadata": {
        "id": "idp2tObCYR9z",
        "colab_type": "text"
      },
      "source": [
        "**Define the role of columns**\n",
        "\n",
        "*   ```class_column```: used for distinguishing data in classes (e.g., ```assembly``` or ```is_healthy```)\n",
        "*   ```grouped_columns```: used for grouping\n",
        "*   ```other_columns```: includes the class column (and those derived from this) plus all columns that are unique for items (e.g. id, URLs) but also \n",
        "\n"
      ]
    },
    {
      "cell_type": "code",
      "metadata": {
        "id": "5_VCaNzP9HQz",
        "colab_type": "code",
        "colab": {}
      },
      "source": [
        "class_column = 'is_healthy'\n",
        "grouped_columns = ['assembly','donor_source_id','data_type','pipeline','platform']\n",
        "other_columns = list(filter(lambda x: not x in grouped_columns, df.columns))"
      ],
      "execution_count": 0,
      "outputs": []
    },
    {
      "cell_type": "markdown",
      "metadata": {
        "id": "zhPG5u4raXFO",
        "colab_type": "text"
      },
      "source": [
        "**Compute desider output**\n",
        "\n",
        "Use ```full_result.head(10)``` to visualize first rows of the final dataframe.\n",
        "\n",
        "In the dataframe:\n",
        "*   First columns are from ```grouped_columns```\n",
        "*   Then we have columns used for distinguishing classes (column names are formed as ```column_name_<class_value>``` to separate classes, e.g. \n",
        "```is_healthy_false``` and ```is_healthy_true```)\n"
      ]
    },
    {
      "cell_type": "code",
      "metadata": {
        "id": "uIsIHHoDpc_N",
        "colab_type": "code",
        "outputId": "02c439d7-3ca0-482d-9cdf-118804be0586",
        "colab": {
          "base_uri": "https://localhost:8080/",
          "height": 612
        }
      },
      "source": [
        "df = df[grouped_columns + other_columns]\n",
        "\n",
        "#define possible values of class column\n",
        "classes = df[class_column].sort_values().unique()\n",
        "\n",
        "#perform group by on the dataframe\n",
        "grouped_df = df.groupby(grouped_columns)\n",
        "\n",
        "result = []\n",
        "\n",
        "#compute the pairs\n",
        "for group_key, group_df in grouped_df:\n",
        "\n",
        "  inner_grouped_df = group_df.groupby(class_column)\n",
        "  \n",
        "  has_all_classes = reduce((lambda x, y: x and y), map(lambda x: x in inner_grouped_df.groups.keys(), classes))\n",
        "    \n",
        "  if has_all_classes:\n",
        "    class_result = []\n",
        "    for c in classes:\n",
        "      inner_group_df = inner_grouped_df.get_group(c) \n",
        "      inner_group_df.columns = map(lambda x: x if x in grouped_columns else x + \"_\" + c.lower() ,inner_group_df.columns)\n",
        "      class_result.append(inner_group_df)\n",
        "    \n",
        "    merged = reduce(lambda left,right: pd.merge(left,right,on=grouped_columns), class_result)\n",
        "\n",
        "    result.append(merged)\n",
        "\n",
        "#builds the whole final dataframe result    \n",
        "full_result = pd.concat(result, axis=0, join='outer')\n",
        "\n",
        "print(\"Number of pairs: \",full_result.shape[0])\n",
        "\n",
        "full_result.head(10)"
      ],
      "execution_count": 5,
      "outputs": [
        {
          "output_type": "stream",
          "text": [
            "Number of pairs:  1436\n"
          ],
          "name": "stdout"
        },
        {
          "output_type": "execute_result",
          "data": {
            "text/html": [
              "<div>\n",
              "<style scoped>\n",
              "    .dataframe tbody tr th:only-of-type {\n",
              "        vertical-align: middle;\n",
              "    }\n",
              "\n",
              "    .dataframe tbody tr th {\n",
              "        vertical-align: top;\n",
              "    }\n",
              "\n",
              "    .dataframe thead th {\n",
              "        text-align: right;\n",
              "    }\n",
              "</style>\n",
              "<table border=\"1\" class=\"dataframe\">\n",
              "  <thead>\n",
              "    <tr style=\"text-align: right;\">\n",
              "      <th></th>\n",
              "      <th>assembly</th>\n",
              "      <th>donor_source_id</th>\n",
              "      <th>data_type</th>\n",
              "      <th>pipeline</th>\n",
              "      <th>platform</th>\n",
              "      <th>item_source_id_false</th>\n",
              "      <th>local_url_false</th>\n",
              "      <th>is_healthy_false</th>\n",
              "      <th>item_source_id_true</th>\n",
              "      <th>local_url_true</th>\n",
              "      <th>is_healthy_true</th>\n",
              "    </tr>\n",
              "  </thead>\n",
              "  <tbody>\n",
              "    <tr>\n",
              "      <th>0</th>\n",
              "      <td>GRCh38</td>\n",
              "      <td>0075437e-ba1a-46be-86d6-9773209a2b5e</td>\n",
              "      <td>Copy Number Segment</td>\n",
              "      <td>DNAcopy</td>\n",
              "      <td>Affymetrix SNP 6.0</td>\n",
              "      <td>5f224fa1-13d6-4310-a238-7482cd3bdbc6-cns</td>\n",
              "      <td>http://www.gmql.eu/gmql-rest/datasets/public.G...</td>\n",
              "      <td>false</td>\n",
              "      <td>d3a4622d-65ae-44c2-85ba-c0d7bffdc551-cns</td>\n",
              "      <td>http://www.gmql.eu/gmql-rest/datasets/public.G...</td>\n",
              "      <td>true</td>\n",
              "    </tr>\n",
              "    <tr>\n",
              "      <th>0</th>\n",
              "      <td>GRCh38</td>\n",
              "      <td>0075437e-ba1a-46be-86d6-9773209a2b5e</td>\n",
              "      <td>Masked Copy Number Segment</td>\n",
              "      <td>DNAcopy</td>\n",
              "      <td>Affymetrix SNP 6.0</td>\n",
              "      <td>5f224fa1-13d6-4310-a238-7482cd3bdbc6-mcns</td>\n",
              "      <td>http://www.gmql.eu/gmql-rest/datasets/public.G...</td>\n",
              "      <td>false</td>\n",
              "      <td>d3a4622d-65ae-44c2-85ba-c0d7bffdc551-mcns</td>\n",
              "      <td>http://www.gmql.eu/gmql-rest/datasets/public.G...</td>\n",
              "      <td>true</td>\n",
              "    </tr>\n",
              "    <tr>\n",
              "      <th>0</th>\n",
              "      <td>GRCh38</td>\n",
              "      <td>009be09b-f9f6-43b7-8f45-4a648f8123ce</td>\n",
              "      <td>Copy Number Segment</td>\n",
              "      <td>DNAcopy</td>\n",
              "      <td>Affymetrix SNP 6.0</td>\n",
              "      <td>124240f8-701b-4f9e-95ea-6e30c3e3209a-cns</td>\n",
              "      <td>http://www.gmql.eu/gmql-rest/datasets/public.G...</td>\n",
              "      <td>false</td>\n",
              "      <td>c754420d-d8b2-4f07-b9f5-8f6b7b8b5223-cns</td>\n",
              "      <td>http://www.gmql.eu/gmql-rest/datasets/public.G...</td>\n",
              "      <td>true</td>\n",
              "    </tr>\n",
              "    <tr>\n",
              "      <th>0</th>\n",
              "      <td>GRCh38</td>\n",
              "      <td>009be09b-f9f6-43b7-8f45-4a648f8123ce</td>\n",
              "      <td>Masked Copy Number Segment</td>\n",
              "      <td>DNAcopy</td>\n",
              "      <td>Affymetrix SNP 6.0</td>\n",
              "      <td>124240f8-701b-4f9e-95ea-6e30c3e3209a-mcns</td>\n",
              "      <td>http://www.gmql.eu/gmql-rest/datasets/public.G...</td>\n",
              "      <td>false</td>\n",
              "      <td>c754420d-d8b2-4f07-b9f5-8f6b7b8b5223-mcns</td>\n",
              "      <td>http://www.gmql.eu/gmql-rest/datasets/public.G...</td>\n",
              "      <td>true</td>\n",
              "    </tr>\n",
              "    <tr>\n",
              "      <th>0</th>\n",
              "      <td>GRCh38</td>\n",
              "      <td>01e9888d-b5b9-48f1-8ba6-8a89af108a04</td>\n",
              "      <td>Copy Number Segment</td>\n",
              "      <td>DNAcopy</td>\n",
              "      <td>Affymetrix SNP 6.0</td>\n",
              "      <td>2ffac0f4-2223-40a2-a315-ce26ec2244e4-cns</td>\n",
              "      <td>http://www.gmql.eu/gmql-rest/datasets/public.G...</td>\n",
              "      <td>false</td>\n",
              "      <td>5ed63725-ae72-4157-bcec-c082cc0048c0-cns</td>\n",
              "      <td>http://www.gmql.eu/gmql-rest/datasets/public.G...</td>\n",
              "      <td>true</td>\n",
              "    </tr>\n",
              "    <tr>\n",
              "      <th>0</th>\n",
              "      <td>GRCh38</td>\n",
              "      <td>01e9888d-b5b9-48f1-8ba6-8a89af108a04</td>\n",
              "      <td>Masked Copy Number Segment</td>\n",
              "      <td>DNAcopy</td>\n",
              "      <td>Affymetrix SNP 6.0</td>\n",
              "      <td>2ffac0f4-2223-40a2-a315-ce26ec2244e4-mcns</td>\n",
              "      <td>http://www.gmql.eu/gmql-rest/datasets/public.G...</td>\n",
              "      <td>false</td>\n",
              "      <td>5ed63725-ae72-4157-bcec-c082cc0048c0-mcns</td>\n",
              "      <td>http://www.gmql.eu/gmql-rest/datasets/public.G...</td>\n",
              "      <td>true</td>\n",
              "    </tr>\n",
              "    <tr>\n",
              "      <th>0</th>\n",
              "      <td>GRCh38</td>\n",
              "      <td>0232d299-4cdf-4fd7-9a5e-8d13c208b40c</td>\n",
              "      <td>Copy Number Segment</td>\n",
              "      <td>DNAcopy</td>\n",
              "      <td>Affymetrix SNP 6.0</td>\n",
              "      <td>17c02f48-b544-45ad-8f10-62292b26d04d-cns</td>\n",
              "      <td>http://www.gmql.eu/gmql-rest/datasets/public.G...</td>\n",
              "      <td>false</td>\n",
              "      <td>427300d7-c99a-42bf-8fc0-e3c234309737-cns</td>\n",
              "      <td>http://www.gmql.eu/gmql-rest/datasets/public.G...</td>\n",
              "      <td>true</td>\n",
              "    </tr>\n",
              "    <tr>\n",
              "      <th>0</th>\n",
              "      <td>GRCh38</td>\n",
              "      <td>0232d299-4cdf-4fd7-9a5e-8d13c208b40c</td>\n",
              "      <td>Masked Copy Number Segment</td>\n",
              "      <td>DNAcopy</td>\n",
              "      <td>Affymetrix SNP 6.0</td>\n",
              "      <td>17c02f48-b544-45ad-8f10-62292b26d04d-mcns</td>\n",
              "      <td>http://www.gmql.eu/gmql-rest/datasets/public.G...</td>\n",
              "      <td>false</td>\n",
              "      <td>427300d7-c99a-42bf-8fc0-e3c234309737-mcns</td>\n",
              "      <td>http://www.gmql.eu/gmql-rest/datasets/public.G...</td>\n",
              "      <td>true</td>\n",
              "    </tr>\n",
              "    <tr>\n",
              "      <th>0</th>\n",
              "      <td>GRCh38</td>\n",
              "      <td>028e99e9-5b9a-4954-bb6e-6d4709a3cea8</td>\n",
              "      <td>Copy Number Segment</td>\n",
              "      <td>DNAcopy</td>\n",
              "      <td>Affymetrix SNP 6.0</td>\n",
              "      <td>1253f3d7-92ff-419b-946a-6962d84d8fb6-cns</td>\n",
              "      <td>http://www.gmql.eu/gmql-rest/datasets/public.G...</td>\n",
              "      <td>false</td>\n",
              "      <td>6ef5a769-1330-46fb-9e3d-8608295701f9-cns</td>\n",
              "      <td>http://www.gmql.eu/gmql-rest/datasets/public.G...</td>\n",
              "      <td>true</td>\n",
              "    </tr>\n",
              "    <tr>\n",
              "      <th>0</th>\n",
              "      <td>GRCh38</td>\n",
              "      <td>028e99e9-5b9a-4954-bb6e-6d4709a3cea8</td>\n",
              "      <td>Masked Copy Number Segment</td>\n",
              "      <td>DNAcopy</td>\n",
              "      <td>Affymetrix SNP 6.0</td>\n",
              "      <td>1253f3d7-92ff-419b-946a-6962d84d8fb6-mcns</td>\n",
              "      <td>http://www.gmql.eu/gmql-rest/datasets/public.G...</td>\n",
              "      <td>false</td>\n",
              "      <td>6ef5a769-1330-46fb-9e3d-8608295701f9-mcns</td>\n",
              "      <td>http://www.gmql.eu/gmql-rest/datasets/public.G...</td>\n",
              "      <td>true</td>\n",
              "    </tr>\n",
              "  </tbody>\n",
              "</table>\n",
              "</div>"
            ],
            "text/plain": [
              "  assembly  ... is_healthy_true\n",
              "0   GRCh38  ...            true\n",
              "0   GRCh38  ...            true\n",
              "0   GRCh38  ...            true\n",
              "0   GRCh38  ...            true\n",
              "0   GRCh38  ...            true\n",
              "0   GRCh38  ...            true\n",
              "0   GRCh38  ...            true\n",
              "0   GRCh38  ...            true\n",
              "0   GRCh38  ...            true\n",
              "0   GRCh38  ...            true\n",
              "\n",
              "[10 rows x 11 columns]"
            ]
          },
          "metadata": {
            "tags": []
          },
          "execution_count": 5
        }
      ]
    },
    {
      "cell_type": "markdown",
      "metadata": {
        "id": "atvy0GGnd5wx",
        "colab_type": "text"
      },
      "source": [
        "**Visualize and save the list of pairs**\n",
        "\n",
        "If you are interested only in some of the the pairs list, extract if from the ```full_result``` and exploit it further."
      ]
    },
    {
      "cell_type": "code",
      "metadata": {
        "id": "OGFaryuY9Bk8",
        "colab_type": "code",
        "colab": {}
      },
      "source": [
        "pairs = full_result[grouped_columns + ['item_source_id_false','is_healthy_false','item_source_id_true','is_healthy_true']]\n",
        "\n",
        "pairs.to_csv(\"GenoSurf_rest_TCGA_healthy_vs_tumor.csv\")"
      ],
      "execution_count": 0,
      "outputs": []
    }
  ]
}