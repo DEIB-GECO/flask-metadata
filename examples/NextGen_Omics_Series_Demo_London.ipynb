{
 "cells": [
  {
   "cell_type": "markdown",
   "metadata": {
    "colab_type": "text",
    "id": "0p0zOWp5Tjms"
   },
   "source": [
    "# GenoSurf API and pyGMQL Example Use Case: "
   ]
  },
  {
   "cell_type": "code",
   "execution_count": 1,
   "metadata": {},
   "outputs": [],
   "source": [
    "try:\n",
    "    import google.colab\n",
    "    IN_COLAB = True\n",
    "except:\n",
    "    IN_COLAB = False\n",
    "IN_COLAB\n",
    "if IN_COLAB:\n",
    "    !pip install git+https://github.com/DEIB-GECO/PyGMQL.git\n",
    "    !pip install --force https://github.com/chengs/tqdm/archive/colab.zip"
   ]
  },
  {
   "cell_type": "code",
   "execution_count": 2,
   "metadata": {},
   "outputs": [
    {
     "data": {
      "text/plain": [
       "datetime.datetime(2019, 10, 25, 14, 25, 49, 789673)"
      ]
     },
     "execution_count": 2,
     "metadata": {},
     "output_type": "execute_result"
    }
   ],
   "source": [
    "import datetime\n",
    "datetime.datetime.now()"
   ]
  },
  {
   "cell_type": "markdown",
   "metadata": {
    "colab_type": "text",
    "id": "7mZs08pSV3KE"
   },
   "source": [
    "### Import necessary libraries"
   ]
  },
  {
   "cell_type": "code",
   "execution_count": 3,
   "metadata": {
    "colab": {},
    "colab_type": "code",
    "id": "LSege2UOVVu8"
   },
   "outputs": [],
   "source": [
    "from IPython.display import clear_output\n",
    "import requests\n",
    "from ast import literal_eval\n",
    "import pandas as pd\n",
    "from functools import reduce\n",
    "import os\n",
    "from io import StringIO\n",
    "import gmql as gl\n",
    "from tqdm import tqdm_notebook as tqdm\n",
    "import numpy as np\n",
    "\n",
    "import seaborn as sns\n",
    "import matplotlib.pyplot as plt\n",
    "\n",
    "\n",
    "clear_output()"
   ]
  },
  {
   "cell_type": "code",
   "execution_count": 4,
   "metadata": {
    "colab": {},
    "colab_type": "code",
    "id": "2ZqWzzHIMmrI"
   },
   "outputs": [],
   "source": [
    "# set JAVA_HOME\n",
    "os.environ[\"JAVA_HOME\"] = \"/usr/lib/jvm/java-8-openjdk-amd64\""
   ]
  },
  {
   "cell_type": "markdown",
   "metadata": {
    "colab_type": "text",
    "id": "BzExZ4wu-TZx"
   },
   "source": [
    "## Funtion to download data from GenoSurf"
   ]
  },
  {
   "cell_type": "code",
   "execution_count": 5,
   "metadata": {
    "colab": {},
    "colab_type": "code",
    "id": "z2wSAF2u1VxA"
   },
   "outputs": [],
   "source": [
    "def get_genosurf_results(input_query, payload = {'agg': True}):\n",
    "    url = 'http://geco.deib.polimi.it/genosurf/api/query/table'\n",
    "    if type(input_query) == str:\n",
    "        input_query = literal_eval(input_query)\n",
    "    response = requests.post(url, json=input_query, params=payload)\n",
    "    response_json = response.json()\n",
    "    df = pd.DataFrame(response_json)\n",
    "    return df"
   ]
  },
  {
   "cell_type": "markdown",
   "metadata": {
    "colab_type": "text",
    "id": "FCi_fIl7WXTZ"
   },
   "source": [
    "### Funtions to download data from GMQL repository and convert it to gmql dataset"
   ]
  },
  {
   "cell_type": "code",
   "execution_count": 6,
   "metadata": {
    "colab": {},
    "colab_type": "code",
    "id": "GuhkiAe7NC4j"
   },
   "outputs": [],
   "source": [
    "def download_region_file(url,sample_name, other_column_positions =[] ,other_columns = []): #TODO columns and their names\n",
    "    download_token = '?authToken=DOWNLOAD-TOKEN'\n",
    "    r = requests.get(url + download_token)\n",
    "    \n",
    "    test_string_io = StringIO(r.text)\n",
    "    column_positions = [0,1,2,3] + other_column_positions\n",
    "    df2 = pd.read_csv(test_string_io, sep=\"\\t\",header=None,usecols=column_positions)\n",
    "    df2.columns = ['chr', 'start','stop','strand'] + other_columns\n",
    "    df2['sample_name'] = sample_name    \n",
    "    return df2\n",
    "\n",
    "def download_dataset_files(df_genosurf,other_column_positions = [], other_columns = []):\n",
    "    dfs = [] # can be done by append each iteration\n",
    "    for index,row in tqdm(list(df_genosurf.iterrows()), desc='Dowloading'):\n",
    "        dfs.append(download_region_file(row.local_url, row.item_source_id,other_column_positions, other_columns))\n",
    "    df = pd.concat(dfs)\n",
    "    return df\n",
    "\n",
    "def create_dataset(df,meta_df=None, meta_columns=None):\n",
    "    df = df.copy()\n",
    "    if meta_df  is not None and meta_columns is not None:\n",
    "        meta_df = meta_df.copy()\n",
    "        meta_df['sample_name'] = meta_df['item_source_id']\n",
    "        meta_df = meta_df.set_index('sample_name')\n",
    "        meta_df = meta_df[meta_columns]\n",
    "        meta_df = meta_df.applymap(lambda x: [x] if x else [])\n",
    "    return gl.from_pandas(df, meta_df ,sample_name='sample_name').to_GMQLDataset()"
   ]
  },
  {
   "cell_type": "markdown",
   "metadata": {},
   "source": [
    "#### Myc dataset download"
   ]
  },
  {
   "cell_type": "raw",
   "metadata": {
    "colab": {
     "base_uri": "https://localhost:8080/",
     "height": 51
    },
    "colab_type": "code",
    "id": "d2SHMuJx2jyp",
    "outputId": "dafe009d-32f3-45cb-a86c-deb21b53a44d"
   },
   "source": [
    "myc_query = '''{\"gcm\":{\"source\":[\"encode\"],\"target\":[\"myc\"],\"cell\":[\"mcf-7\"],\"assembly\":[\"hg19\"],\"file_format\":[\"narrowpeak\"]},\"type\":\"original\",\"kv\":{}}'''\n",
    "myc_df = get_genosurf_results(myc_query)\n",
    "myc_df.to_csv(\"backup/myc_df.csv\", index=False)\n",
    "myc_dataset_files = download_dataset_files(myc_df)\n",
    "myc_dataset_files.to_csv(\"backup/myc_dataset_files.csv\", index=False)\n",
    "myc_dataset = create_dataset(myc_dataset_files)"
   ]
  },
  {
   "cell_type": "markdown",
   "metadata": {},
   "source": [
    "#### BRCA dataset download"
   ]
  },
  {
   "cell_type": "raw",
   "metadata": {
    "colab": {
     "base_uri": "https://localhost:8080/",
     "height": 51
    },
    "colab_type": "code",
    "id": "QuBSU-8Xgm59",
    "outputId": "626fe18b-99ed-41a7-d763-a816242fefd4"
   },
   "source": [
    "brca_query = '{\"gcm\":{\"source\":[\"tcga\"],\"project_name\":[\"tcga-brca\"],\"assembly\":[\"hg19\"],\"technique\":[\"dna-seq\"]},\"type\":\"original\",\"kv\":{\"new%tumor_0\":{\"type_query\":\"key\",\"exact\":\"false\",\"query\":{\"gcm\":{},\"pairs\":{\"clinical_follow_up__new_tumor_event_dx_indicator\":[\"yes\"]}}}}}'\n",
    "brca_df = get_genosurf_results(brca_query)\n",
    "brca_df.to_csv(\"backup/brca_df.csv\", index=False)\n",
    "brca_dataset_files = download_dataset_files(brca_df)\n",
    "brca_dataset_files.to_csv(\"backup/brca_dataset_files.csv\", index=False)\n",
    "brca_dataset = create_dataset(brca_dataset_files,brca_df,['item_source_id','age','gender','ethnicity','species'])"
   ]
  },
  {
   "cell_type": "markdown",
   "metadata": {},
   "source": [
    "#### GENE dataset download"
   ]
  },
  {
   "cell_type": "raw",
   "metadata": {
    "colab": {
     "base_uri": "https://localhost:8080/",
     "height": 51
    },
    "colab_type": "code",
    "id": "zh57eAdm_T8S",
    "outputId": "5eed488d-e325-4fb2-d9bb-f4d11a09520f"
   },
   "source": [
    "gene_query = '{\"gcm\":{\"source\":[\"refseq\"],\"assembly\":[\"hg19\"],\"content_type\":[\"gene\"]},\"type\":\"original\",\"kv\":{}}'\n",
    "gene_df = get_genosurf_results(gene_query)\n",
    "gene_df.to_csv(\"backup/gene_df.csv\", index=False)\n",
    "gene_dataset_files = download_dataset_files(gene_df, [13,20], ['gene_symbol','gene_biotype'])\n",
    "gene_dataset_files.to_csv(\"backup/gene_dataset_files.csv\", index=False)\n",
    "gene_dataset = create_dataset(gene_dataset_files)"
   ]
  },
  {
   "cell_type": "markdown",
   "metadata": {},
   "source": [
    "#### Loading all DSs from local backup DSs"
   ]
  },
  {
   "cell_type": "code",
   "execution_count": 7,
   "metadata": {},
   "outputs": [
    {
     "name": "stderr",
     "output_type": "stream",
     "text": [
      "100%|██████████| 16/16 [00:06<00:00,  2.30it/s]\n",
      "Collecting regions: 5it [00:00, 275.35it/s]\n",
      "100%|██████████| 2/2 [00:00<00:00, 167.27it/s]\n",
      "100%|██████████| 88/88 [00:00<00:00, 522.63it/s]\n",
      "Collecting regions: 5it [00:00, 529.95it/s]\n",
      "100%|██████████| 6/6 [00:00<00:00, 158.11it/s]\n",
      "100%|██████████| 1/1 [00:00<00:00,  7.83it/s]\n",
      "Collecting regions: 5it [00:00, 446.67it/s]\n",
      "100%|██████████| 2/2 [00:00<00:00, 859.66it/s]\n"
     ]
    },
    {
     "data": {
      "text/plain": [
       "<gmql.dataset.GDataframe.GDataframe at 0x7f2cdfb23cd0>"
      ]
     },
     "execution_count": 7,
     "metadata": {},
     "output_type": "execute_result"
    }
   ],
   "source": [
    "myc_df = pd.read_csv(\"backup/myc_df.csv\")\n",
    "myc_dataset_files = pd.read_csv(\"backup/myc_dataset_files.csv\")\n",
    "myc_dataset = create_dataset(myc_dataset_files)\n",
    "myc_dataset.head()\n",
    "\n",
    "brca_df = pd.read_csv(\"backup/brca_df.csv\")\n",
    "brca_dataset_files = pd.read_csv(\"backup/brca_dataset_files.csv\")\n",
    "brca_dataset = create_dataset(brca_dataset_files,brca_df,['item_source_id','age','gender','ethnicity','species'])\n",
    "brca_dataset.head()\n",
    "\n",
    "gene_df = pd.read_csv(\"backup/gene_df.csv\")\n",
    "gene_dataset_files = pd.read_csv(\"backup/gene_dataset_files.csv\")\n",
    "gene_dataset = create_dataset(gene_dataset_files)\n",
    "gene_dataset.head()"
   ]
  },
  {
   "cell_type": "code",
   "execution_count": 8,
   "metadata": {
    "colab": {},
    "colab_type": "code",
    "id": "lfVkMXT6gm2q"
   },
   "outputs": [],
   "source": [
    "myc = myc_dataset.cover(2, 'ANY')"
   ]
  },
  {
   "cell_type": "raw",
   "metadata": {},
   "source": [
    "myc_m = myc.materialize()\n",
    "print(len(myc_m.regs), len(set(myc_m.regs.index)))"
   ]
  },
  {
   "cell_type": "code",
   "execution_count": 9,
   "metadata": {},
   "outputs": [],
   "source": [
    "protein_coding_gene = gene_dataset.select(region_predicate=gene_dataset.gene_biotype==\"protein_coding\")\n",
    "prom = protein_coding_gene.reg_project(new_field_dict={'start': protein_coding_gene.start - 5000,\n",
    "                                                       'stop': protein_coding_gene.start + 1000})\n",
    "\n",
    "# prom = gene_dataset.reg_project(new_field_dict={'start': gene_dataset.start - 5000,\n",
    "#                                                        'stop': gene_dataset.start + 1000})"
   ]
  },
  {
   "cell_type": "raw",
   "metadata": {},
   "source": [
    "prom_m = prom.materialize()\n",
    "print(len(set(prom_m.regs)), len(set(prom_m.regs.index)))"
   ]
  },
  {
   "cell_type": "raw",
   "metadata": {},
   "source": [
    "prom_cov_check = prom.cover(1,2)\n",
    "prom_cov_check_m = prom_cov_check.materialize()\n",
    "print(len(prom_cov_check_m.regs))"
   ]
  },
  {
   "cell_type": "code",
   "execution_count": 10,
   "metadata": {},
   "outputs": [],
   "source": [
    "prom_myc = prom.join(myc,genometric_predicate=[gl.DL(0)],output=\"left\")"
   ]
  },
  {
   "cell_type": "raw",
   "metadata": {},
   "source": [
    "prom_myc_map = prom.map(myc)\n",
    "prom_myc = prom_myc_map.select(region_predicate=prom_myc_map.count_REF_EXP > 0)"
   ]
  },
  {
   "cell_type": "raw",
   "metadata": {},
   "source": [
    "prom_myc_map_m = prom_myc_map.materialize()\n",
    "print(len(set(prom_myc_map_m.regs)), len(set(prom_myc_map_m.regs.index)))"
   ]
  },
  {
   "cell_type": "raw",
   "metadata": {},
   "source": [
    "prom_myc_m = prom_myc.materialize()\n",
    "print(len(set(prom_myc_m.regs)), len(set(prom_myc_m.regs.index)))"
   ]
  },
  {
   "cell_type": "code",
   "execution_count": 11,
   "metadata": {},
   "outputs": [],
   "source": [
    "prom_myc_brca_map = prom_myc.map(brca_dataset,refName='REF_NEW')"
   ]
  },
  {
   "cell_type": "raw",
   "metadata": {},
   "source": [
    "prom_myc_brca_map_m = prom_myc_brca_map.materialize()\n",
    "print(len(set(prom_myc_brca_map_m.regs)), len(set(prom_myc_brca_map_m.regs.index)))"
   ]
  },
  {
   "cell_type": "code",
   "execution_count": 12,
   "metadata": {
    "colab": {},
    "colab_type": "code",
    "id": "dkcyRH5ggmsN"
   },
   "outputs": [],
   "source": [
    "prom_myc_brca = prom_myc_brca_map.select(region_predicate=prom_myc_brca_map.count_REF_NEW_EXP > 0)"
   ]
  },
  {
   "cell_type": "code",
   "execution_count": 13,
   "metadata": {},
   "outputs": [
    {
     "name": "stderr",
     "output_type": "stream",
     "text": [
      "Collecting regions: 1916it [07:22,  4.33it/s]\n",
      "100%|██████████| 8/8 [00:00<00:00, 152.15it/s]"
     ]
    },
    {
     "name": "stdout",
     "output_type": "stream",
     "text": [
      "10 76\n"
     ]
    },
    {
     "name": "stderr",
     "output_type": "stream",
     "text": [
      "\n"
     ]
    }
   ],
   "source": [
    "prom_myc_brca_m = prom_myc_brca.materialize()\n",
    "print(len(set(prom_myc_brca_m.regs)), len(set(prom_myc_brca_m.regs.index)))"
   ]
  },
  {
   "cell_type": "code",
   "execution_count": 14,
   "metadata": {},
   "outputs": [],
   "source": [
    "result_regions = prom_myc_brca_m.regs\n",
    "result_meta = prom_myc_brca_m.meta"
   ]
  },
  {
   "cell_type": "code",
   "execution_count": 15,
   "metadata": {},
   "outputs": [
    {
     "data": {
      "text/html": [
       "<div>\n",
       "<style scoped>\n",
       "    .dataframe tbody tr th:only-of-type {\n",
       "        vertical-align: middle;\n",
       "    }\n",
       "\n",
       "    .dataframe tbody tr th {\n",
       "        vertical-align: top;\n",
       "    }\n",
       "\n",
       "    .dataframe thead th {\n",
       "        text-align: right;\n",
       "    }\n",
       "</style>\n",
       "<table border=\"1\" class=\"dataframe\">\n",
       "  <thead>\n",
       "    <tr style=\"text-align: right;\">\n",
       "      <th></th>\n",
       "      <th>chr</th>\n",
       "      <th>start</th>\n",
       "      <th>stop</th>\n",
       "      <th>strand</th>\n",
       "      <th>REF.gene_symbol</th>\n",
       "      <th>REF.gene_biotype</th>\n",
       "      <th>EXP.AccIndex</th>\n",
       "      <th>EXP.JaccardIntersect</th>\n",
       "      <th>EXP.JaccardResult</th>\n",
       "      <th>count_REF_NEW_EXP</th>\n",
       "      <th>REF_NEW.REF.file</th>\n",
       "      <th>REF_NEW.EXP.file</th>\n",
       "      <th>EXP.ethnicity</th>\n",
       "      <th>EXP.item_source_id</th>\n",
       "      <th>EXP.gender</th>\n",
       "      <th>EXP.species</th>\n",
       "      <th>EXP.age</th>\n",
       "    </tr>\n",
       "    <tr>\n",
       "      <th>id_sample</th>\n",
       "      <th></th>\n",
       "      <th></th>\n",
       "      <th></th>\n",
       "      <th></th>\n",
       "      <th></th>\n",
       "      <th></th>\n",
       "      <th></th>\n",
       "      <th></th>\n",
       "      <th></th>\n",
       "      <th></th>\n",
       "      <th></th>\n",
       "      <th></th>\n",
       "      <th></th>\n",
       "      <th></th>\n",
       "      <th></th>\n",
       "      <th></th>\n",
       "      <th></th>\n",
       "    </tr>\n",
       "  </thead>\n",
       "  <tbody>\n",
       "    <tr>\n",
       "      <th>-9156808363795865683</th>\n",
       "      <td>chr1</td>\n",
       "      <td>156780541</td>\n",
       "      <td>156786541</td>\n",
       "      <td>+</td>\n",
       "      <td>NTRK1</td>\n",
       "      <td>protein_coding</td>\n",
       "      <td>13</td>\n",
       "      <td>0.947368</td>\n",
       "      <td>0.274854</td>\n",
       "      <td>1.0</td>\n",
       "      <td>RefSeq_HG19_gene</td>\n",
       "      <td>ENCFF434LJJENCFF808TOFENCFF844RNWENCFF682AWNEN...</td>\n",
       "      <td>white</td>\n",
       "      <td>TCGA-B6-A0X7-01A-11D-A10M-09__dnaseq</td>\n",
       "      <td>female</td>\n",
       "      <td>Homo sapiens</td>\n",
       "      <td>22723</td>\n",
       "    </tr>\n",
       "    <tr>\n",
       "      <th>-9156808363795865683</th>\n",
       "      <td>chr20</td>\n",
       "      <td>61335188</td>\n",
       "      <td>61341188</td>\n",
       "      <td>+</td>\n",
       "      <td>NTSR1</td>\n",
       "      <td>protein_coding</td>\n",
       "      <td>12</td>\n",
       "      <td>0.803815</td>\n",
       "      <td>0.155313</td>\n",
       "      <td>1.0</td>\n",
       "      <td>RefSeq_HG19_gene</td>\n",
       "      <td>ENCFF434LJJENCFF808TOFENCFF844RNWENCFF682AWNEN...</td>\n",
       "      <td>white</td>\n",
       "      <td>TCGA-B6-A0X7-01A-11D-A10M-09__dnaseq</td>\n",
       "      <td>female</td>\n",
       "      <td>Homo sapiens</td>\n",
       "      <td>22723</td>\n",
       "    </tr>\n",
       "    <tr>\n",
       "      <th>-9156808363795865683</th>\n",
       "      <td>chr1</td>\n",
       "      <td>156780541</td>\n",
       "      <td>156786541</td>\n",
       "      <td>+</td>\n",
       "      <td>NTRK1</td>\n",
       "      <td>protein_coding</td>\n",
       "      <td>2</td>\n",
       "      <td>0.876652</td>\n",
       "      <td>0.876652</td>\n",
       "      <td>1.0</td>\n",
       "      <td>RefSeq_HG19_gene</td>\n",
       "      <td>ENCFF434LJJENCFF808TOFENCFF844RNWENCFF682AWNEN...</td>\n",
       "      <td>white</td>\n",
       "      <td>TCGA-B6-A0X7-01A-11D-A10M-09__dnaseq</td>\n",
       "      <td>female</td>\n",
       "      <td>Homo sapiens</td>\n",
       "      <td>22723</td>\n",
       "    </tr>\n",
       "    <tr>\n",
       "      <th>-9156808363795865683</th>\n",
       "      <td>chr20</td>\n",
       "      <td>61335188</td>\n",
       "      <td>61341188</td>\n",
       "      <td>+</td>\n",
       "      <td>NTSR1</td>\n",
       "      <td>protein_coding</td>\n",
       "      <td>11</td>\n",
       "      <td>0.968750</td>\n",
       "      <td>0.042279</td>\n",
       "      <td>1.0</td>\n",
       "      <td>RefSeq_HG19_gene</td>\n",
       "      <td>ENCFF434LJJENCFF808TOFENCFF844RNWENCFF682AWNEN...</td>\n",
       "      <td>white</td>\n",
       "      <td>TCGA-B6-A0X7-01A-11D-A10M-09__dnaseq</td>\n",
       "      <td>female</td>\n",
       "      <td>Homo sapiens</td>\n",
       "      <td>22723</td>\n",
       "    </tr>\n",
       "    <tr>\n",
       "      <th>-9156808363795865683</th>\n",
       "      <td>chr20</td>\n",
       "      <td>61335188</td>\n",
       "      <td>61341188</td>\n",
       "      <td>+</td>\n",
       "      <td>NTSR1</td>\n",
       "      <td>protein_coding</td>\n",
       "      <td>10</td>\n",
       "      <td>0.843558</td>\n",
       "      <td>0.000000</td>\n",
       "      <td>1.0</td>\n",
       "      <td>RefSeq_HG19_gene</td>\n",
       "      <td>ENCFF434LJJENCFF808TOFENCFF844RNWENCFF682AWNEN...</td>\n",
       "      <td>white</td>\n",
       "      <td>TCGA-B6-A0X7-01A-11D-A10M-09__dnaseq</td>\n",
       "      <td>female</td>\n",
       "      <td>Homo sapiens</td>\n",
       "      <td>22723</td>\n",
       "    </tr>\n",
       "  </tbody>\n",
       "</table>\n",
       "</div>"
      ],
      "text/plain": [
       "                        chr      start       stop strand REF.gene_symbol  \\\n",
       "id_sample                                                                  \n",
       "-9156808363795865683   chr1  156780541  156786541      +           NTRK1   \n",
       "-9156808363795865683  chr20   61335188   61341188      +           NTSR1   \n",
       "-9156808363795865683   chr1  156780541  156786541      +           NTRK1   \n",
       "-9156808363795865683  chr20   61335188   61341188      +           NTSR1   \n",
       "-9156808363795865683  chr20   61335188   61341188      +           NTSR1   \n",
       "\n",
       "                     REF.gene_biotype  EXP.AccIndex  EXP.JaccardIntersect  \\\n",
       "id_sample                                                                   \n",
       "-9156808363795865683   protein_coding            13              0.947368   \n",
       "-9156808363795865683   protein_coding            12              0.803815   \n",
       "-9156808363795865683   protein_coding             2              0.876652   \n",
       "-9156808363795865683   protein_coding            11              0.968750   \n",
       "-9156808363795865683   protein_coding            10              0.843558   \n",
       "\n",
       "                      EXP.JaccardResult  count_REF_NEW_EXP  REF_NEW.REF.file  \\\n",
       "id_sample                                                                      \n",
       "-9156808363795865683           0.274854                1.0  RefSeq_HG19_gene   \n",
       "-9156808363795865683           0.155313                1.0  RefSeq_HG19_gene   \n",
       "-9156808363795865683           0.876652                1.0  RefSeq_HG19_gene   \n",
       "-9156808363795865683           0.042279                1.0  RefSeq_HG19_gene   \n",
       "-9156808363795865683           0.000000                1.0  RefSeq_HG19_gene   \n",
       "\n",
       "                                                       REF_NEW.EXP.file  \\\n",
       "id_sample                                                                 \n",
       "-9156808363795865683  ENCFF434LJJENCFF808TOFENCFF844RNWENCFF682AWNEN...   \n",
       "-9156808363795865683  ENCFF434LJJENCFF808TOFENCFF844RNWENCFF682AWNEN...   \n",
       "-9156808363795865683  ENCFF434LJJENCFF808TOFENCFF844RNWENCFF682AWNEN...   \n",
       "-9156808363795865683  ENCFF434LJJENCFF808TOFENCFF844RNWENCFF682AWNEN...   \n",
       "-9156808363795865683  ENCFF434LJJENCFF808TOFENCFF844RNWENCFF682AWNEN...   \n",
       "\n",
       "                     EXP.ethnicity                    EXP.item_source_id  \\\n",
       "id_sample                                                                  \n",
       "-9156808363795865683         white  TCGA-B6-A0X7-01A-11D-A10M-09__dnaseq   \n",
       "-9156808363795865683         white  TCGA-B6-A0X7-01A-11D-A10M-09__dnaseq   \n",
       "-9156808363795865683         white  TCGA-B6-A0X7-01A-11D-A10M-09__dnaseq   \n",
       "-9156808363795865683         white  TCGA-B6-A0X7-01A-11D-A10M-09__dnaseq   \n",
       "-9156808363795865683         white  TCGA-B6-A0X7-01A-11D-A10M-09__dnaseq   \n",
       "\n",
       "                     EXP.gender   EXP.species EXP.age  \n",
       "id_sample                                              \n",
       "-9156808363795865683     female  Homo sapiens   22723  \n",
       "-9156808363795865683     female  Homo sapiens   22723  \n",
       "-9156808363795865683     female  Homo sapiens   22723  \n",
       "-9156808363795865683     female  Homo sapiens   22723  \n",
       "-9156808363795865683     female  Homo sapiens   22723  "
      ]
     },
     "execution_count": 15,
     "metadata": {},
     "output_type": "execute_result"
    }
   ],
   "source": [
    "joined = result_regions.join(result_meta)\n",
    "joined = joined.applymap(lambda x: ''.join(x) if type(x) == list else x )\n",
    "joined.head()"
   ]
  },
  {
   "cell_type": "code",
   "execution_count": 16,
   "metadata": {},
   "outputs": [
    {
     "data": {
      "text/html": [
       "<div>\n",
       "<style scoped>\n",
       "    .dataframe tbody tr th:only-of-type {\n",
       "        vertical-align: middle;\n",
       "    }\n",
       "\n",
       "    .dataframe tbody tr th {\n",
       "        vertical-align: top;\n",
       "    }\n",
       "\n",
       "    .dataframe thead th {\n",
       "        text-align: right;\n",
       "    }\n",
       "</style>\n",
       "<table border=\"1\" class=\"dataframe\">\n",
       "  <thead>\n",
       "    <tr style=\"text-align: right;\">\n",
       "      <th></th>\n",
       "      <th>chr</th>\n",
       "      <th>start</th>\n",
       "      <th>stop</th>\n",
       "      <th>strand</th>\n",
       "      <th>REF.gene_symbol</th>\n",
       "      <th>REF.gene_biotype</th>\n",
       "      <th>EXP.AccIndex</th>\n",
       "      <th>EXP.JaccardIntersect</th>\n",
       "      <th>EXP.JaccardResult</th>\n",
       "      <th>count_REF_NEW_EXP</th>\n",
       "      <th>REF_NEW.REF.file</th>\n",
       "      <th>REF_NEW.EXP.file</th>\n",
       "      <th>EXP.ethnicity</th>\n",
       "      <th>EXP.item_source_id</th>\n",
       "      <th>EXP.gender</th>\n",
       "      <th>EXP.species</th>\n",
       "      <th>EXP.age</th>\n",
       "      <th>age_number</th>\n",
       "      <th>age</th>\n",
       "    </tr>\n",
       "    <tr>\n",
       "      <th>id_sample</th>\n",
       "      <th></th>\n",
       "      <th></th>\n",
       "      <th></th>\n",
       "      <th></th>\n",
       "      <th></th>\n",
       "      <th></th>\n",
       "      <th></th>\n",
       "      <th></th>\n",
       "      <th></th>\n",
       "      <th></th>\n",
       "      <th></th>\n",
       "      <th></th>\n",
       "      <th></th>\n",
       "      <th></th>\n",
       "      <th></th>\n",
       "      <th></th>\n",
       "      <th></th>\n",
       "      <th></th>\n",
       "      <th></th>\n",
       "    </tr>\n",
       "  </thead>\n",
       "  <tbody>\n",
       "    <tr>\n",
       "      <th>-9156808363795865683</th>\n",
       "      <td>chr1</td>\n",
       "      <td>156780541</td>\n",
       "      <td>156786541</td>\n",
       "      <td>+</td>\n",
       "      <td>NTRK1</td>\n",
       "      <td>protein_coding</td>\n",
       "      <td>13</td>\n",
       "      <td>0.947368</td>\n",
       "      <td>0.274854</td>\n",
       "      <td>1</td>\n",
       "      <td>RefSeq_HG19_gene</td>\n",
       "      <td>ENCFF434LJJENCFF808TOFENCFF844RNWENCFF682AWNEN...</td>\n",
       "      <td>white</td>\n",
       "      <td>TCGA-B6-A0X7-01A-11D-A10M-09__dnaseq</td>\n",
       "      <td>female</td>\n",
       "      <td>Homo sapiens</td>\n",
       "      <td>22723</td>\n",
       "      <td>62.254795</td>\n",
       "      <td>55 &lt; x &lt;= 65</td>\n",
       "    </tr>\n",
       "    <tr>\n",
       "      <th>-9156808363795865683</th>\n",
       "      <td>chr20</td>\n",
       "      <td>61335188</td>\n",
       "      <td>61341188</td>\n",
       "      <td>+</td>\n",
       "      <td>NTSR1</td>\n",
       "      <td>protein_coding</td>\n",
       "      <td>12</td>\n",
       "      <td>0.803815</td>\n",
       "      <td>0.155313</td>\n",
       "      <td>1</td>\n",
       "      <td>RefSeq_HG19_gene</td>\n",
       "      <td>ENCFF434LJJENCFF808TOFENCFF844RNWENCFF682AWNEN...</td>\n",
       "      <td>white</td>\n",
       "      <td>TCGA-B6-A0X7-01A-11D-A10M-09__dnaseq</td>\n",
       "      <td>female</td>\n",
       "      <td>Homo sapiens</td>\n",
       "      <td>22723</td>\n",
       "      <td>62.254795</td>\n",
       "      <td>55 &lt; x &lt;= 65</td>\n",
       "    </tr>\n",
       "    <tr>\n",
       "      <th>-9156808363795865683</th>\n",
       "      <td>chr1</td>\n",
       "      <td>156780541</td>\n",
       "      <td>156786541</td>\n",
       "      <td>+</td>\n",
       "      <td>NTRK1</td>\n",
       "      <td>protein_coding</td>\n",
       "      <td>2</td>\n",
       "      <td>0.876652</td>\n",
       "      <td>0.876652</td>\n",
       "      <td>1</td>\n",
       "      <td>RefSeq_HG19_gene</td>\n",
       "      <td>ENCFF434LJJENCFF808TOFENCFF844RNWENCFF682AWNEN...</td>\n",
       "      <td>white</td>\n",
       "      <td>TCGA-B6-A0X7-01A-11D-A10M-09__dnaseq</td>\n",
       "      <td>female</td>\n",
       "      <td>Homo sapiens</td>\n",
       "      <td>22723</td>\n",
       "      <td>62.254795</td>\n",
       "      <td>55 &lt; x &lt;= 65</td>\n",
       "    </tr>\n",
       "    <tr>\n",
       "      <th>-9156808363795865683</th>\n",
       "      <td>chr20</td>\n",
       "      <td>61335188</td>\n",
       "      <td>61341188</td>\n",
       "      <td>+</td>\n",
       "      <td>NTSR1</td>\n",
       "      <td>protein_coding</td>\n",
       "      <td>11</td>\n",
       "      <td>0.968750</td>\n",
       "      <td>0.042279</td>\n",
       "      <td>1</td>\n",
       "      <td>RefSeq_HG19_gene</td>\n",
       "      <td>ENCFF434LJJENCFF808TOFENCFF844RNWENCFF682AWNEN...</td>\n",
       "      <td>white</td>\n",
       "      <td>TCGA-B6-A0X7-01A-11D-A10M-09__dnaseq</td>\n",
       "      <td>female</td>\n",
       "      <td>Homo sapiens</td>\n",
       "      <td>22723</td>\n",
       "      <td>62.254795</td>\n",
       "      <td>55 &lt; x &lt;= 65</td>\n",
       "    </tr>\n",
       "    <tr>\n",
       "      <th>-9156808363795865683</th>\n",
       "      <td>chr20</td>\n",
       "      <td>61335188</td>\n",
       "      <td>61341188</td>\n",
       "      <td>+</td>\n",
       "      <td>NTSR1</td>\n",
       "      <td>protein_coding</td>\n",
       "      <td>10</td>\n",
       "      <td>0.843558</td>\n",
       "      <td>0.000000</td>\n",
       "      <td>1</td>\n",
       "      <td>RefSeq_HG19_gene</td>\n",
       "      <td>ENCFF434LJJENCFF808TOFENCFF844RNWENCFF682AWNEN...</td>\n",
       "      <td>white</td>\n",
       "      <td>TCGA-B6-A0X7-01A-11D-A10M-09__dnaseq</td>\n",
       "      <td>female</td>\n",
       "      <td>Homo sapiens</td>\n",
       "      <td>22723</td>\n",
       "      <td>62.254795</td>\n",
       "      <td>55 &lt; x &lt;= 65</td>\n",
       "    </tr>\n",
       "  </tbody>\n",
       "</table>\n",
       "</div>"
      ],
      "text/plain": [
       "                        chr      start       stop strand REF.gene_symbol  \\\n",
       "id_sample                                                                  \n",
       "-9156808363795865683   chr1  156780541  156786541      +           NTRK1   \n",
       "-9156808363795865683  chr20   61335188   61341188      +           NTSR1   \n",
       "-9156808363795865683   chr1  156780541  156786541      +           NTRK1   \n",
       "-9156808363795865683  chr20   61335188   61341188      +           NTSR1   \n",
       "-9156808363795865683  chr20   61335188   61341188      +           NTSR1   \n",
       "\n",
       "                     REF.gene_biotype  EXP.AccIndex  EXP.JaccardIntersect  \\\n",
       "id_sample                                                                   \n",
       "-9156808363795865683   protein_coding            13              0.947368   \n",
       "-9156808363795865683   protein_coding            12              0.803815   \n",
       "-9156808363795865683   protein_coding             2              0.876652   \n",
       "-9156808363795865683   protein_coding            11              0.968750   \n",
       "-9156808363795865683   protein_coding            10              0.843558   \n",
       "\n",
       "                      EXP.JaccardResult  count_REF_NEW_EXP  REF_NEW.REF.file  \\\n",
       "id_sample                                                                      \n",
       "-9156808363795865683           0.274854                  1  RefSeq_HG19_gene   \n",
       "-9156808363795865683           0.155313                  1  RefSeq_HG19_gene   \n",
       "-9156808363795865683           0.876652                  1  RefSeq_HG19_gene   \n",
       "-9156808363795865683           0.042279                  1  RefSeq_HG19_gene   \n",
       "-9156808363795865683           0.000000                  1  RefSeq_HG19_gene   \n",
       "\n",
       "                                                       REF_NEW.EXP.file  \\\n",
       "id_sample                                                                 \n",
       "-9156808363795865683  ENCFF434LJJENCFF808TOFENCFF844RNWENCFF682AWNEN...   \n",
       "-9156808363795865683  ENCFF434LJJENCFF808TOFENCFF844RNWENCFF682AWNEN...   \n",
       "-9156808363795865683  ENCFF434LJJENCFF808TOFENCFF844RNWENCFF682AWNEN...   \n",
       "-9156808363795865683  ENCFF434LJJENCFF808TOFENCFF844RNWENCFF682AWNEN...   \n",
       "-9156808363795865683  ENCFF434LJJENCFF808TOFENCFF844RNWENCFF682AWNEN...   \n",
       "\n",
       "                     EXP.ethnicity                    EXP.item_source_id  \\\n",
       "id_sample                                                                  \n",
       "-9156808363795865683         white  TCGA-B6-A0X7-01A-11D-A10M-09__dnaseq   \n",
       "-9156808363795865683         white  TCGA-B6-A0X7-01A-11D-A10M-09__dnaseq   \n",
       "-9156808363795865683         white  TCGA-B6-A0X7-01A-11D-A10M-09__dnaseq   \n",
       "-9156808363795865683         white  TCGA-B6-A0X7-01A-11D-A10M-09__dnaseq   \n",
       "-9156808363795865683         white  TCGA-B6-A0X7-01A-11D-A10M-09__dnaseq   \n",
       "\n",
       "                     EXP.gender   EXP.species  EXP.age  age_number  \\\n",
       "id_sample                                                            \n",
       "-9156808363795865683     female  Homo sapiens    22723   62.254795   \n",
       "-9156808363795865683     female  Homo sapiens    22723   62.254795   \n",
       "-9156808363795865683     female  Homo sapiens    22723   62.254795   \n",
       "-9156808363795865683     female  Homo sapiens    22723   62.254795   \n",
       "-9156808363795865683     female  Homo sapiens    22723   62.254795   \n",
       "\n",
       "                               age  \n",
       "id_sample                           \n",
       "-9156808363795865683  55 < x <= 65  \n",
       "-9156808363795865683  55 < x <= 65  \n",
       "-9156808363795865683  55 < x <= 65  \n",
       "-9156808363795865683  55 < x <= 65  \n",
       "-9156808363795865683  55 < x <= 65  "
      ]
     },
     "execution_count": 16,
     "metadata": {},
     "output_type": "execute_result"
    }
   ],
   "source": [
    "def convert(s):\n",
    "    try:\n",
    "        r = float(s)\n",
    "        i = int(r)\n",
    "        if i == r:\n",
    "            return i\n",
    "        else:   \n",
    "            return r\n",
    "    except ValueError:\n",
    "        return s\n",
    "\n",
    "def age_group(x):\n",
    "    if x <= 55:\n",
    "        return '25 <= x <= 55'\n",
    "    elif x <= 65:\n",
    "        return '55 < x <= 65'\n",
    "    else:\n",
    "        return '65 < x <= 100'\n",
    "    \n",
    "joined = joined.applymap(convert)\n",
    "joined\n",
    "\n",
    "joined['age_number'] = (joined['EXP.age'] / 365)\n",
    "\n",
    "\n",
    "joined['age'] = (joined['EXP.age'] / 365).map(age_group)\n",
    "joined.head()"
   ]
  },
  {
   "cell_type": "raw",
   "metadata": {},
   "source": [
    "a = [tuple(x) for x in  result_regions.reset_index()[['id_sample','gene_symbol']].values]\n",
    "len(set(a))"
   ]
  },
  {
   "cell_type": "code",
   "execution_count": 17,
   "metadata": {},
   "outputs": [
    {
     "data": {
      "text/plain": [
       "age\n",
       "25 <= x <= 55    31\n",
       "55 < x <= 65     25\n",
       "65 < x <= 100    20\n",
       "Name: EXP.item_source_id, dtype: int64"
      ]
     },
     "execution_count": 17,
     "metadata": {},
     "output_type": "execute_result"
    }
   ],
   "source": [
    "joined.groupby('age').nunique()['EXP.item_source_id']"
   ]
  },
  {
   "cell_type": "code",
   "execution_count": 18,
   "metadata": {},
   "outputs": [
    {
     "data": {
      "text/html": [
       "<div>\n",
       "<style scoped>\n",
       "    .dataframe tbody tr th:only-of-type {\n",
       "        vertical-align: middle;\n",
       "    }\n",
       "\n",
       "    .dataframe tbody tr th {\n",
       "        vertical-align: top;\n",
       "    }\n",
       "\n",
       "    .dataframe thead th {\n",
       "        text-align: right;\n",
       "    }\n",
       "</style>\n",
       "<table border=\"1\" class=\"dataframe\">\n",
       "  <thead>\n",
       "    <tr style=\"text-align: right;\">\n",
       "      <th>REF.gene_symbol</th>\n",
       "      <th>AASDHPPT</th>\n",
       "      <th>ACOT13</th>\n",
       "      <th>ADAM9</th>\n",
       "      <th>ADGRF2</th>\n",
       "      <th>ADHFE1</th>\n",
       "      <th>AHSP</th>\n",
       "      <th>AIP</th>\n",
       "      <th>ANKRD13D</th>\n",
       "      <th>ANKRD61</th>\n",
       "      <th>AOC2</th>\n",
       "      <th>...</th>\n",
       "      <th>ZFP91</th>\n",
       "      <th>ZFYVE19</th>\n",
       "      <th>ZIC3</th>\n",
       "      <th>ZNF512</th>\n",
       "      <th>ZNF551</th>\n",
       "      <th>ZNF609</th>\n",
       "      <th>ZNF645</th>\n",
       "      <th>ZNF678</th>\n",
       "      <th>ZNRD1</th>\n",
       "      <th>ZSWIM8</th>\n",
       "    </tr>\n",
       "    <tr>\n",
       "      <th>age</th>\n",
       "      <th></th>\n",
       "      <th></th>\n",
       "      <th></th>\n",
       "      <th></th>\n",
       "      <th></th>\n",
       "      <th></th>\n",
       "      <th></th>\n",
       "      <th></th>\n",
       "      <th></th>\n",
       "      <th></th>\n",
       "      <th></th>\n",
       "      <th></th>\n",
       "      <th></th>\n",
       "      <th></th>\n",
       "      <th></th>\n",
       "      <th></th>\n",
       "      <th></th>\n",
       "      <th></th>\n",
       "      <th></th>\n",
       "      <th></th>\n",
       "      <th></th>\n",
       "    </tr>\n",
       "  </thead>\n",
       "  <tbody>\n",
       "    <tr>\n",
       "      <th>25 &lt;= x &lt;= 55</th>\n",
       "      <td>0</td>\n",
       "      <td>0</td>\n",
       "      <td>1</td>\n",
       "      <td>1</td>\n",
       "      <td>0</td>\n",
       "      <td>0</td>\n",
       "      <td>0</td>\n",
       "      <td>0</td>\n",
       "      <td>1</td>\n",
       "      <td>1</td>\n",
       "      <td>...</td>\n",
       "      <td>0</td>\n",
       "      <td>1</td>\n",
       "      <td>0</td>\n",
       "      <td>1</td>\n",
       "      <td>0</td>\n",
       "      <td>0</td>\n",
       "      <td>0</td>\n",
       "      <td>1</td>\n",
       "      <td>1</td>\n",
       "      <td>1</td>\n",
       "    </tr>\n",
       "    <tr>\n",
       "      <th>55 &lt; x &lt;= 65</th>\n",
       "      <td>1</td>\n",
       "      <td>1</td>\n",
       "      <td>0</td>\n",
       "      <td>0</td>\n",
       "      <td>0</td>\n",
       "      <td>0</td>\n",
       "      <td>1</td>\n",
       "      <td>1</td>\n",
       "      <td>0</td>\n",
       "      <td>0</td>\n",
       "      <td>...</td>\n",
       "      <td>0</td>\n",
       "      <td>0</td>\n",
       "      <td>1</td>\n",
       "      <td>0</td>\n",
       "      <td>0</td>\n",
       "      <td>1</td>\n",
       "      <td>1</td>\n",
       "      <td>0</td>\n",
       "      <td>0</td>\n",
       "      <td>0</td>\n",
       "    </tr>\n",
       "    <tr>\n",
       "      <th>65 &lt; x &lt;= 100</th>\n",
       "      <td>0</td>\n",
       "      <td>0</td>\n",
       "      <td>0</td>\n",
       "      <td>0</td>\n",
       "      <td>1</td>\n",
       "      <td>1</td>\n",
       "      <td>0</td>\n",
       "      <td>0</td>\n",
       "      <td>0</td>\n",
       "      <td>0</td>\n",
       "      <td>...</td>\n",
       "      <td>1</td>\n",
       "      <td>1</td>\n",
       "      <td>0</td>\n",
       "      <td>0</td>\n",
       "      <td>1</td>\n",
       "      <td>0</td>\n",
       "      <td>0</td>\n",
       "      <td>0</td>\n",
       "      <td>0</td>\n",
       "      <td>0</td>\n",
       "    </tr>\n",
       "  </tbody>\n",
       "</table>\n",
       "<p>3 rows × 347 columns</p>\n",
       "</div>"
      ],
      "text/plain": [
       "REF.gene_symbol  AASDHPPT  ACOT13  ADAM9  ADGRF2  ADHFE1  AHSP  AIP  ANKRD13D  \\\n",
       "age                                                                             \n",
       "25 <= x <= 55           0       0      1       1       0     0    0         0   \n",
       "55 < x <= 65            1       1      0       0       0     0    1         1   \n",
       "65 < x <= 100           0       0      0       0       1     1    0         0   \n",
       "\n",
       "REF.gene_symbol  ANKRD61  AOC2  ...  ZFP91  ZFYVE19  ZIC3  ZNF512  ZNF551  \\\n",
       "age                             ...                                         \n",
       "25 <= x <= 55          1     1  ...      0        1     0       1       0   \n",
       "55 < x <= 65           0     0  ...      0        0     1       0       0   \n",
       "65 < x <= 100          0     0  ...      1        1     0       0       1   \n",
       "\n",
       "REF.gene_symbol  ZNF609  ZNF645  ZNF678  ZNRD1  ZSWIM8  \n",
       "age                                                     \n",
       "25 <= x <= 55         0       0       1      1       1  \n",
       "55 < x <= 65          1       1       0      0       0  \n",
       "65 < x <= 100         0       0       0      0       0  \n",
       "\n",
       "[3 rows x 347 columns]"
      ]
     },
     "execution_count": 18,
     "metadata": {},
     "output_type": "execute_result"
    }
   ],
   "source": [
    "pivoted = joined.pivot_table(index ='age', \n",
    "                             columns ='REF.gene_symbol', \n",
    "                             values ='count_REF_NEW_EXP',\n",
    "                             fill_value=0,\n",
    "                             dropna=True, ) \n",
    "#                              values =['count_REF_EXP','count_REF_NEW_EXP'],\n",
    "pivoted.head()"
   ]
  },
  {
   "cell_type": "code",
   "execution_count": 19,
   "metadata": {},
   "outputs": [],
   "source": [
    "pivoted_new = pivoted.copy()\n",
    "\n",
    "\n",
    "columns1 = pivoted_new.columns[pivoted_new.sum()> 1] \n",
    "pivoted_new = pivoted_new[columns1]\n",
    "\n",
    "# row1 = pivoted_new.T.columns[pivoted_new.sum(axis=1)> 1] \n",
    "# pivoted_new = pivoted_new.T[row1].T\n",
    "\n",
    "\n",
    "pivoted_new\n",
    "\n",
    "pivoted_new = pivoted_new.T\n",
    "\n",
    "pivoted_new = pivoted_new[sorted(pivoted_new.columns)]\n",
    "pivoted_new = pivoted_new.T"
   ]
  },
  {
   "cell_type": "code",
   "execution_count": 20,
   "metadata": {},
   "outputs": [
    {
     "data": {
      "text/plain": [
       "<seaborn.matrix.ClusterGrid at 0x7f2ddfc84190>"
      ]
     },
     "execution_count": 20,
     "metadata": {},
     "output_type": "execute_result"
    },
    {
     "data": {
      "image/png": "[encoded data removed]",
      "text/plain": [
       "<Figure size 720x720 with 4 Axes>"
      ]
     },
     "metadata": {
      "needs_background": "light"
     },
     "output_type": "display_data"
    }
   ],
   "source": [
    "%matplotlib inline\n",
    "\n",
    "# selected genes cluster\n",
    "\n",
    "sns.clustermap(pivoted_new,row_cluster=False)\n",
    "# sns.heatmap(pivoted_new)"
   ]
  },
  {
   "cell_type": "code",
   "execution_count": 21,
   "metadata": {},
   "outputs": [
    {
     "data": {
      "text/plain": [
       "<matplotlib.axes._subplots.AxesSubplot at 0x7f2ddfa4c590>"
      ]
     },
     "execution_count": 21,
     "metadata": {},
     "output_type": "execute_result"
    },
    {
     "data": {
      "image/png": "[encoded data removed]",
      "text/plain": [
       "<Figure size 720x576 with 2 Axes>"
      ]
     },
     "metadata": {
      "needs_background": "light"
     },
     "output_type": "display_data"
    }
   ],
   "source": [
    "# every gene heatmap\n",
    "plt.figure(figsize=(10,8))\n",
    "sns.heatmap(pivoted)"
   ]
  },
  {
   "cell_type": "code",
   "execution_count": 22,
   "metadata": {},
   "outputs": [
    {
     "data": {
      "text/plain": [
       "<seaborn.matrix.ClusterGrid at 0x7f2ddd894950>"
      ]
     },
     "execution_count": 22,
     "metadata": {},
     "output_type": "execute_result"
    },
    {
     "data": {
      "image/png": "[encoded data removed]",
      "text/plain": [
       "<Figure size 720x720 with 4 Axes>"
      ]
     },
     "metadata": {
      "needs_background": "light"
     },
     "output_type": "display_data"
    }
   ],
   "source": [
    "# every gene clustermap\n",
    "sns.clustermap(pivoted,row_cluster=False)"
   ]
  },
  {
   "cell_type": "code",
   "execution_count": 23,
   "metadata": {},
   "outputs": [
    {
     "data": {
      "text/plain": [
       "<matplotlib.axes._subplots.AxesSubplot at 0x7f2dd408a410>"
      ]
     },
     "execution_count": 23,
     "metadata": {},
     "output_type": "execute_result"
    },
    {
     "data": {
      "image/png": "[encoded data removed]",
      "text/plain": [
       "<Figure size 720x576 with 2 Axes>"
      ]
     },
     "metadata": {
      "needs_background": "light"
     },
     "output_type": "display_data"
    }
   ],
   "source": [
    "# selected genes heatmap\n",
    "plt.figure(figsize=(10,8))\n",
    "sns.heatmap(pivoted_new)"
   ]
  },
  {
   "cell_type": "code",
   "execution_count": null,
   "metadata": {},
   "outputs": [],
   "source": []
  },
  {
   "cell_type": "code",
   "execution_count": null,
   "metadata": {},
   "outputs": [],
   "source": []
  }
 ],
 "metadata": {
  "colab": {
   "collapsed_sections": [],
   "name": "London_Demo",
   "provenance": []
  },
  "kernelspec": {
   "display_name": "pygmql",
   "language": "python",
   "name": "pygmql"
  },
  "language_info": {
   "codemirror_mode": {
    "name": "ipython",
    "version": 3
   },
   "file_extension": ".py",
   "mimetype": "text/x-python",
   "name": "python",
   "nbconvert_exporter": "python",
   "pygments_lexer": "ipython3",
   "version": "3.7.4"
  }
 },
 "nbformat": 4,
 "nbformat_minor": 4
}
